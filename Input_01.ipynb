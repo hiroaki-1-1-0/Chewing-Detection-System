{
 "cells": [
  {
   "cell_type": "code",
   "execution_count": 1,
   "metadata": {},
   "outputs": [],
   "source": [
    "import mediapipe as mp\n",
    "from mediapipe.tasks import python\n",
    "from mediapipe.tasks.python import vision\n",
    "import cv2\n",
    "# from google.colab.patches import cv2_imshow\n",
    "# import numpy as np\n",
    "# import matplotlib.pyplot as plt"
   ]
  },
  {
   "cell_type": "code",
   "execution_count": 2,
   "metadata": {},
   "outputs": [],
   "source": [
    "mp_drawing = mp.solutions.drawing_utils\n",
    "mp_drawing_styles = mp.solutions.drawing_styles\n",
    "\n",
    "# my_drawing_specs = mp_drawing.DrawingSpec(color = (0, 255, 0), thickness = 1)"
   ]
  },
  {
   "cell_type": "code",
   "execution_count": 4,
   "metadata": {},
   "outputs": [
    {
     "data": {
      "text/plain": [
       "-1"
      ]
     },
     "execution_count": 4,
     "metadata": {},
     "output_type": "execute_result"
    }
   ],
   "source": [
    "cap = cv2.VideoCapture(0)\n",
    "\n",
    "mp_face_mesh = mp.solutions.face_mesh\n",
    "\n",
    "with mp_face_mesh.FaceMesh(\n",
    "    max_num_faces = 1,\n",
    "    refine_landmarks = True,\n",
    "    min_detection_confidence = 0.5,\n",
    "    min_tracking_confidence = 0.5,\n",
    ") as face_mesh:\n",
    "\n",
    "    if not cap.isOpened():\n",
    "        print(\"Error: Could not open video source.\")\n",
    "    else:\n",
    "        # Read and display video frames\n",
    "        while cap.isOpened():\n",
    "            success, image = cap.read()\n",
    "            \n",
    "            if not success:\n",
    "                print(\"Ignoring empty camera frame.\")\n",
    "                continue # If loading a video, use 'break' instead of 'continue'.\n",
    "\n",
    "            results = face_mesh.process(image)\n",
    "            \n",
    "            for face_landmarks in results.multi_face_landmarks:\n",
    "#                print(face_landmarks)\n",
    "                mp_drawing.draw_landmarks(\n",
    "                    image = image,\n",
    "                    landmark_list = face_landmarks,\n",
    "                    connections = mp_face_mesh.FACEMESH_TESSELATION,\n",
    "#                    connections = mp_face_mesh.FACEMESH_CONTOURS,\n",
    "                    landmark_drawing_spec = None,\n",
    "#                    connection_drawing_spec = my_drawing_specs\n",
    "                    connection_drawing_spec = mp_drawing_styles\n",
    "                    .get_default_face_mesh_tesselation_style()\n",
    "#                    .get_default_face_mesh_contours_style()\n",
    "                )\n",
    "                \n",
    "                \n",
    "            cv2.imshow(\"My Video Capture\", cv2.flip(image, 1))\n",
    "\n",
    "            if cv2.waitKey(100) == ord('q'):\n",
    "                break\n",
    "\n",
    "# Release the video capture object\n",
    "cap.release()\n",
    "cv2.destroyAllWindows()\n",
    "cv2.waitKey(1)"
   ]
  },
  {
   "cell_type": "code",
   "execution_count": null,
   "metadata": {},
   "outputs": [],
   "source": []
  }
 ],
 "metadata": {
  "kernelspec": {
   "display_name": "Python 3",
   "language": "python",
   "name": "python3"
  },
  "language_info": {
   "codemirror_mode": {
    "name": "ipython",
    "version": 3
   },
   "file_extension": ".py",
   "mimetype": "text/x-python",
   "name": "python",
   "nbconvert_exporter": "python",
   "pygments_lexer": "ipython3",
   "version": "3.8.5"
  }
 },
 "nbformat": 4,
 "nbformat_minor": 4
}
